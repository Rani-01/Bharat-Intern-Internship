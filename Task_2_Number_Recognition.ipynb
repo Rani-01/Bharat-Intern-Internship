{
 "cells": [
  {
   "cell_type": "markdown",
   "id": "527887a9",
   "metadata": {},
   "source": [
    "# TASK-2 NUMBER RECOGNITION"
   ]
  },
  {
   "cell_type": "markdown",
   "id": "b85b9bda",
   "metadata": {},
   "source": [
    "## Importing the libraries"
   ]
  },
  {
   "cell_type": "code",
   "execution_count": 1,
   "id": "c6857692",
   "metadata": {},
   "outputs": [],
   "source": [
    "# Importing Libraries\n",
    "import numpy as np\n",
    "import pandas as pd\n",
    "import matplotlib.pyplot as plt\n",
    "import seaborn as sns\n",
    "from numpy import unique , argmax\n",
    "\n",
    "# TensorFlow already contain MNIST data set which can be loaded using Keras\n",
    "import tensorflow as tf # installing tenserflow\n",
    "from tensorflow import keras"
   ]
  },
  {
   "cell_type": "code",
   "execution_count": 2,
   "id": "ca5c5a97",
   "metadata": {},
   "outputs": [],
   "source": [
    "# To Load the MNIST dataset from the Keras API provided by TensorFlow.\n",
    "mnist = tf.keras.datasets.mnist"
   ]
  },
  {
   "cell_type": "markdown",
   "id": "803afee0",
   "metadata": {},
   "source": [
    "## Dividing the data into train and test data."
   ]
  },
  {
   "cell_type": "code",
   "execution_count": 3,
   "id": "1f0f945b",
   "metadata": {},
   "outputs": [
    {
     "name": "stdout",
     "output_type": "stream",
     "text": [
      "Downloading data from https://storage.googleapis.com/tensorflow/tf-keras-datasets/mnist.npz\n",
      "11490434/11490434 [==============================] - 5s 0us/step\n"
     ]
    }
   ],
   "source": [
    "(x_train, y_train), (x_test, y_test) = mnist.load_data()"
   ]
  },
  {
   "cell_type": "code",
   "execution_count": 4,
   "id": "d200598b",
   "metadata": {},
   "outputs": [
    {
     "name": "stdout",
     "output_type": "stream",
     "text": [
      "(60000, 28, 28)\n",
      "(60000,)\n",
      "(10000, 28, 28)\n",
      "(10000,)\n"
     ]
    }
   ],
   "source": [
    "print(x_train.shape)\n",
    "print(y_train.shape)\n",
    "print(x_test.shape)\n",
    "print(y_test.shape)"
   ]
  },
  {
   "cell_type": "code",
   "execution_count": 5,
   "id": "2822b016",
   "metadata": {},
   "outputs": [
    {
     "name": "stdout",
     "output_type": "stream",
     "text": [
      "[[[0 0 0 ... 0 0 0]\n",
      "  [0 0 0 ... 0 0 0]\n",
      "  [0 0 0 ... 0 0 0]\n",
      "  ...\n",
      "  [0 0 0 ... 0 0 0]\n",
      "  [0 0 0 ... 0 0 0]\n",
      "  [0 0 0 ... 0 0 0]]\n",
      "\n",
      " [[0 0 0 ... 0 0 0]\n",
      "  [0 0 0 ... 0 0 0]\n",
      "  [0 0 0 ... 0 0 0]\n",
      "  ...\n",
      "  [0 0 0 ... 0 0 0]\n",
      "  [0 0 0 ... 0 0 0]\n",
      "  [0 0 0 ... 0 0 0]]\n",
      "\n",
      " [[0 0 0 ... 0 0 0]\n",
      "  [0 0 0 ... 0 0 0]\n",
      "  [0 0 0 ... 0 0 0]\n",
      "  ...\n",
      "  [0 0 0 ... 0 0 0]\n",
      "  [0 0 0 ... 0 0 0]\n",
      "  [0 0 0 ... 0 0 0]]\n",
      "\n",
      " ...\n",
      "\n",
      " [[0 0 0 ... 0 0 0]\n",
      "  [0 0 0 ... 0 0 0]\n",
      "  [0 0 0 ... 0 0 0]\n",
      "  ...\n",
      "  [0 0 0 ... 0 0 0]\n",
      "  [0 0 0 ... 0 0 0]\n",
      "  [0 0 0 ... 0 0 0]]\n",
      "\n",
      " [[0 0 0 ... 0 0 0]\n",
      "  [0 0 0 ... 0 0 0]\n",
      "  [0 0 0 ... 0 0 0]\n",
      "  ...\n",
      "  [0 0 0 ... 0 0 0]\n",
      "  [0 0 0 ... 0 0 0]\n",
      "  [0 0 0 ... 0 0 0]]\n",
      "\n",
      " [[0 0 0 ... 0 0 0]\n",
      "  [0 0 0 ... 0 0 0]\n",
      "  [0 0 0 ... 0 0 0]\n",
      "  ...\n",
      "  [0 0 0 ... 0 0 0]\n",
      "  [0 0 0 ... 0 0 0]\n",
      "  [0 0 0 ... 0 0 0]]]\n"
     ]
    }
   ],
   "source": [
    "print(x_train)"
   ]
  },
  {
   "cell_type": "code",
   "execution_count": 6,
   "id": "7f5bff05",
   "metadata": {},
   "outputs": [
    {
     "name": "stdout",
     "output_type": "stream",
     "text": [
      "[[[0 0 0 ... 0 0 0]\n",
      "  [0 0 0 ... 0 0 0]\n",
      "  [0 0 0 ... 0 0 0]\n",
      "  ...\n",
      "  [0 0 0 ... 0 0 0]\n",
      "  [0 0 0 ... 0 0 0]\n",
      "  [0 0 0 ... 0 0 0]]\n",
      "\n",
      " [[0 0 0 ... 0 0 0]\n",
      "  [0 0 0 ... 0 0 0]\n",
      "  [0 0 0 ... 0 0 0]\n",
      "  ...\n",
      "  [0 0 0 ... 0 0 0]\n",
      "  [0 0 0 ... 0 0 0]\n",
      "  [0 0 0 ... 0 0 0]]\n",
      "\n",
      " [[0 0 0 ... 0 0 0]\n",
      "  [0 0 0 ... 0 0 0]\n",
      "  [0 0 0 ... 0 0 0]\n",
      "  ...\n",
      "  [0 0 0 ... 0 0 0]\n",
      "  [0 0 0 ... 0 0 0]\n",
      "  [0 0 0 ... 0 0 0]]\n",
      "\n",
      " ...\n",
      "\n",
      " [[0 0 0 ... 0 0 0]\n",
      "  [0 0 0 ... 0 0 0]\n",
      "  [0 0 0 ... 0 0 0]\n",
      "  ...\n",
      "  [0 0 0 ... 0 0 0]\n",
      "  [0 0 0 ... 0 0 0]\n",
      "  [0 0 0 ... 0 0 0]]\n",
      "\n",
      " [[0 0 0 ... 0 0 0]\n",
      "  [0 0 0 ... 0 0 0]\n",
      "  [0 0 0 ... 0 0 0]\n",
      "  ...\n",
      "  [0 0 0 ... 0 0 0]\n",
      "  [0 0 0 ... 0 0 0]\n",
      "  [0 0 0 ... 0 0 0]]\n",
      "\n",
      " [[0 0 0 ... 0 0 0]\n",
      "  [0 0 0 ... 0 0 0]\n",
      "  [0 0 0 ... 0 0 0]\n",
      "  ...\n",
      "  [0 0 0 ... 0 0 0]\n",
      "  [0 0 0 ... 0 0 0]\n",
      "  [0 0 0 ... 0 0 0]]]\n"
     ]
    }
   ],
   "source": [
    "print(x_test)"
   ]
  },
  {
   "cell_type": "code",
   "execution_count": 7,
   "id": "81c85f3c",
   "metadata": {},
   "outputs": [
    {
     "name": "stdout",
     "output_type": "stream",
     "text": [
      "(60000, 28, 28, 1)\n",
      "(10000, 28, 28, 1)\n",
      "uint8\n",
      "uint8\n"
     ]
    }
   ],
   "source": [
    "# Reshaping the input Data which is used as a input in CNN in Tenserflow\n",
    "# CNN takes the input Data in 4D Format with the shape (num_samples, image_height, image_width, num_channels)\n",
    "# Here (num_channels) is set to 1 which means input image is Grayscale.\n",
    "\n",
    "x_train = x_train.reshape((x_train.shape[0] , x_train.shape[1] , x_train.shape[2],1))\n",
    "x_test = x_test.reshape((x_test.shape[0] , x_test.shape[1] , x_test.shape[2],1))\n",
    "print(x_train.shape)\n",
    "print(x_test.shape)\n",
    "print(x_train.dtype)\n",
    "print(x_test.dtype)"
   ]
  },
  {
   "cell_type": "code",
   "execution_count": 8,
   "id": "128c035b",
   "metadata": {},
   "outputs": [
    {
     "name": "stdout",
     "output_type": "stream",
     "text": [
      "float32\n",
      "float32\n"
     ]
    }
   ],
   "source": [
    "# Normalizing Pixel Values\n",
    "\n",
    "x_train = x_train.astype('float32')/255.0\n",
    "x_test = x_test.astype('float32')/255.0\n",
    "print(x_train.dtype)\n",
    "print(x_test.dtype)"
   ]
  },
  {
   "cell_type": "code",
   "execution_count": 9,
   "id": "b5dca8a9",
   "metadata": {},
   "outputs": [
    {
     "data": {
      "image/png": "[encoded data removed]",
      "text/plain": [
       "<Figure size 500x300 with 20 Axes>"
      ]
     },
     "metadata": {},
     "output_type": "display_data"
    }
   ],
   "source": [
    "# Visulaizing Subsets of images in MNIST Dataset along with coressponding labels.\n",
    "\n",
    "fig=plt.figure(figsize=(5,3))\n",
    "for i in range(20):\n",
    "    ax =fig.add_subplot(2,10,i+1, xticks=[], yticks=[])\n",
    "    ax.imshow(np.squeeze(x_train[i]), cmap='Blues')\n",
    "    ax.set_title(y_train[i])"
   ]
  },
  {
   "cell_type": "code",
   "execution_count": 10,
   "id": "82bcec12",
   "metadata": {},
   "outputs": [
    {
     "data": {
      "text/plain": [
       "(28, 28, 1)"
      ]
     },
     "execution_count": 10,
     "metadata": {},
     "output_type": "execute_result"
    }
   ],
   "source": [
    "# showing shape of single image\n",
    "img_shape= x_train.shape[1:]\n",
    "img_shape"
   ]
  },
  {
   "cell_type": "markdown",
   "id": "a354c988",
   "metadata": {},
   "source": [
    "## BUILDING NEURAL NETWORK THAT CAN READ HANDWRITTEN DIGITS."
   ]
  },
  {
   "cell_type": "code",
   "execution_count": 11,
   "id": "bd927c2a",
   "metadata": {},
   "outputs": [],
   "source": [
    "# Creating aSequential Model in Keras\n",
    "model = tf.keras.models.Sequential([\n",
    "    tf.keras.layers.Flatten(input_shape=(28, 28)),\n",
    "    tf.keras.layers.Dense(128, activation='relu'),\n",
    "    tf.keras.layers.Dropout(0.2),\n",
    "    tf.keras.layers.Dense(10)\n",
    "])"
   ]
  },
  {
   "cell_type": "code",
   "execution_count": 12,
   "id": "8ab7afab",
   "metadata": {},
   "outputs": [
    {
     "name": "stdout",
     "output_type": "stream",
     "text": [
      "Model: \"sequential\"\n",
      "_________________________________________________________________\n",
      " Layer (type)                Output Shape              Param #   \n",
      "=================================================================\n",
      " flatten (Flatten)           (None, 784)               0         \n",
      "                                                                 \n",
      " dense (Dense)               (None, 128)               100480    \n",
      "                                                                 \n",
      " dropout (Dropout)           (None, 128)               0         \n",
      "                                                                 \n",
      " dense_1 (Dense)             (None, 10)                1290      \n",
      "                                                                 \n",
      "=================================================================\n",
      "Total params: 101770 (397.54 KB)\n",
      "Trainable params: 101770 (397.54 KB)\n",
      "Non-trainable params: 0 (0.00 Byte)\n",
      "_________________________________________________________________\n"
     ]
    }
   ],
   "source": [
    "model.summary()"
   ]
  },
  {
   "cell_type": "markdown",
   "id": "9ca6d42c",
   "metadata": {},
   "source": [
    "This summary shows that the model has four layers:"
   ]
  },
  {
   "cell_type": "markdown",
   "id": "a2b099b4",
   "metadata": {},
   "source": [
    "1)A Flatten layer that flattens the input images to a 1D array of length 784."
   ]
  },
  {
   "cell_type": "markdown",
   "id": "7da5c114",
   "metadata": {},
   "source": [
    "2)A Dense layer with 128 units and ReLU activation."
   ]
  },
  {
   "cell_type": "markdown",
   "id": "5dda4186",
   "metadata": {},
   "source": [
    "3)A Dropout layer that randomly sets 20% of the input units to 0 during training."
   ]
  },
  {
   "cell_type": "markdown",
   "id": "a72b9ce3",
   "metadata": {},
   "source": [
    "4)A second Dense layer with 10 units and no activation function."
   ]
  },
  {
   "cell_type": "markdown",
   "id": "5f95d1c9",
   "metadata": {},
   "source": [
    "5)Total parameters are also trainable."
   ]
  },
  {
   "cell_type": "code",
   "execution_count": 21,
   "id": "82b9d801",
   "metadata": {},
   "outputs": [
    {
     "data": {
      "text/plain": [
       "array([[ 0.39680833,  0.07096812,  0.7344615 , -0.7158032 , -0.47982913,\n",
       "         0.07817217, -0.15695933,  0.33783025, -0.37294513, -0.42037877]],\n",
       "      dtype=float32)"
      ]
     },
     "execution_count": 21,
     "metadata": {},
     "output_type": "execute_result"
    }
   ],
   "source": [
    "# Making Prediction on Model\n",
    "prediction = model(x_train[:1]).numpy()\n",
    "prediction"
   ]
  },
  {
   "cell_type": "code",
   "execution_count": 22,
   "id": "d3080b4f",
   "metadata": {},
   "outputs": [
    {
     "data": {
      "text/plain": [
       "array([[0.14249274, 0.10286843, 0.19972555, 0.04683728, 0.05930262,\n",
       "        0.10361218, 0.081902  , 0.13433182, 0.06599227, 0.0629351 ]],\n",
       "      dtype=float32)"
      ]
     },
     "execution_count": 22,
     "metadata": {},
     "output_type": "execute_result"
    }
   ],
   "source": [
    "# Applying Softmax() Function to prediction array\n",
    "# This convert an output vector of real numbers into a probability distribution over predicted classes\n",
    "tf.nn.softmax(prediction).numpy()"
   ]
  },
  {
   "cell_type": "code",
   "execution_count": 23,
   "id": "381a9afe",
   "metadata": {},
   "outputs": [],
   "source": [
    "loss_fn = tf.keras.losses.SparseCategoricalCrossentropy(from_logits=True)\n",
    "loss_fn(y_train[:1], prediction).numpy()\n",
    "model.compile(optimizer='adam',loss=loss_fn,metrics=['accuracy'])"
   ]
  },
  {
   "cell_type": "markdown",
   "id": "25daf627",
   "metadata": {},
   "source": [
    "## Model fitting"
   ]
  },
  {
   "cell_type": "code",
   "execution_count": 24,
   "id": "4ac739b5",
   "metadata": {},
   "outputs": [
    {
     "name": "stdout",
     "output_type": "stream",
     "text": [
      "Epoch 1/5\n",
      "1875/1875 [==============================] - 10s 5ms/step - loss: 0.2978 - accuracy: 0.9140\n",
      "Epoch 2/5\n",
      "1875/1875 [==============================] - 9s 5ms/step - loss: 0.1431 - accuracy: 0.9562\n",
      "Epoch 3/5\n",
      "1875/1875 [==============================] - 9s 5ms/step - loss: 0.1071 - accuracy: 0.9675\n",
      "Epoch 4/5\n",
      "1875/1875 [==============================] - 10s 5ms/step - loss: 0.0878 - accuracy: 0.9726\n",
      "Epoch 5/5\n",
      "1875/1875 [==============================] - 9s 5ms/step - loss: 0.0742 - accuracy: 0.9772\n"
     ]
    },
    {
     "data": {
      "text/plain": [
       "<keras.src.callbacks.History at 0x2275ab8d880>"
      ]
     },
     "execution_count": 24,
     "metadata": {},
     "output_type": "execute_result"
    }
   ],
   "source": [
    "# Training the Model\n",
    "model.fit(x_train, y_train, epochs=5)"
   ]
  },
  {
   "cell_type": "code",
   "execution_count": 25,
   "id": "201f714c",
   "metadata": {},
   "outputs": [
    {
     "name": "stdout",
     "output_type": "stream",
     "text": [
      "313/313 - 1s - loss: 0.0726 - accuracy: 0.9759 - 1s/epoch - 4ms/step\n"
     ]
    },
    {
     "data": {
      "text/plain": [
       "[0.07258599251508713, 0.9758999943733215]"
      ]
     },
     "execution_count": 25,
     "metadata": {},
     "output_type": "execute_result"
    }
   ],
   "source": [
    "# Evaluating the Model\n",
    "model.evaluate(x_test, y_test, verbose=2)"
   ]
  },
  {
   "cell_type": "code",
   "execution_count": 26,
   "id": "f3f7c37a",
   "metadata": {},
   "outputs": [
    {
     "data": {
      "text/plain": [
       "<tf.Tensor: shape=(5, 10), dtype=float32, numpy=\n",
       "array([[1.18193393e-08, 2.00799555e-09, 4.14717715e-06, 5.98243787e-05,\n",
       "        3.22818405e-13, 1.76576691e-06, 1.69074248e-14, 9.99931216e-01,\n",
       "        2.04952599e-07, 2.77784329e-06],\n",
       "       [2.24114061e-07, 2.00479160e-04, 9.99792874e-01, 6.31243392e-06,\n",
       "        3.12502176e-15, 2.73907528e-08, 3.17629656e-09, 2.17853491e-12,\n",
       "        1.55341013e-07, 2.30888702e-12],\n",
       "       [1.77718054e-08, 9.98400033e-01, 2.18117075e-05, 5.09003314e-07,\n",
       "        4.20505457e-05, 8.44658757e-07, 1.42618455e-05, 1.45855895e-03,\n",
       "        6.12382864e-05, 6.59262923e-07],\n",
       "       [9.99380708e-01, 2.57363748e-08, 5.28697041e-04, 1.51815391e-06,\n",
       "        1.97122247e-08, 2.07816065e-05, 1.98650978e-05, 3.81601785e-05,\n",
       "        5.43484582e-08, 1.00458601e-05],\n",
       "       [9.62114370e-08, 4.18209538e-08, 2.67935297e-06, 4.18749295e-07,\n",
       "        9.97333050e-01, 3.55635450e-07, 1.17669629e-06, 2.40021673e-05,\n",
       "        1.51064273e-06, 2.63671693e-03]], dtype=float32)>"
      ]
     },
     "execution_count": 26,
     "metadata": {},
     "output_type": "execute_result"
    }
   ],
   "source": [
    "# Creating a new sequential model which includes both previously trained model and softmax layer.\n",
    "probability_model = tf.keras.Sequential([ model,tf.keras.layers.Softmax() ])\n",
    "probability_model(x_test[:5])"
   ]
  },
  {
   "cell_type": "code",
   "execution_count": 28,
   "id": "1217dc00",
   "metadata": {},
   "outputs": [
    {
     "data": {
      "image/png": "[encoded data removed]",
      "text/plain": [
       "<Figure size 640x480 with 1 Axes>"
      ]
     },
     "metadata": {},
     "output_type": "display_data"
    }
   ],
   "source": [
    "# Displaying a Grayscale Image\n",
    "img = x_train[15]\n",
    "plt.imshow(np.squeeze(img) ,cmap='gray')\n",
    "plt.show()"
   ]
  },
  {
   "cell_type": "code",
   "execution_count": 29,
   "id": "7aa4513f",
   "metadata": {},
   "outputs": [
    {
     "name": "stdout",
     "output_type": "stream",
     "text": [
      "1/1 [==============================] - 0s 168ms/step\n",
      "predicted : 7\n"
     ]
    }
   ],
   "source": [
    "# Predicting the Result\n",
    "img= img.reshape(1, img.shape[0],img.shape[1],img.shape[2])\n",
    "p= model.predict([img])\n",
    "print(\"predicted : {}\".format(argmax(p)))"
   ]
  },
  {
   "cell_type": "code",
   "execution_count": null,
   "id": "7139743a",
   "metadata": {},
   "outputs": [],
   "source": []
  }
 ],
 "metadata": {
  "kernelspec": {
   "display_name": "Python 3 (ipykernel)",
   "language": "python",
   "name": "python3"
  },
  "language_info": {
   "codemirror_mode": {
    "name": "ipython",
    "version": 3
   },
   "file_extension": ".py",
   "mimetype": "text/x-python",
   "name": "python",
   "nbconvert_exporter": "python",
   "pygments_lexer": "ipython3",
   "version": "3.9.13"
  }
 },
 "nbformat": 4,
 "nbformat_minor": 5
}
